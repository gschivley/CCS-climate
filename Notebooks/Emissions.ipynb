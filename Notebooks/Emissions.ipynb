{
 "cells": [
  {
   "cell_type": "markdown",
   "metadata": {},
   "source": [
    "# Supporting Information: Climate Implications of CCS Implementation Timing and Natural Gas Methane Emission Uncertainty"
   ]
  },
  {
   "cell_type": "markdown",
   "metadata": {},
   "source": [
    "Greg Schivley, Paulina Jaramillo, Constantine Samaras*\n",
    "\n",
    "*csamaras@cmu.edu\n"
   ]
  },
  {
   "cell_type": "markdown",
   "metadata": {},
   "source": [
    "## Description"
   ]
  },
  {
   "cell_type": "markdown",
   "metadata": {},
   "source": [
    "This IPython Notebook presents code and data used to calculate emissions for supercritical pulvarized coal (SCPC) and natural gas combined cycle (NGCC) power plants that begin operations with, or transition to, carbon capture and storage (CCS). We also examine the uncertainty of current methane emissions from natural gas systems, and what will happen if those emissions are reduced."
   ]
  },
  {
   "cell_type": "code",
   "execution_count": 1,
   "metadata": {
    "ExecuteTime": {
     "end_time": "2017-11-19T15:12:21.554906-05:00",
     "start_time": "2017-11-19T15:12:18.780273Z"
    }
   },
   "outputs": [],
   "source": [
    "%matplotlib inline\n",
    "from __future__ import division\n",
    "import pandas as pd\n",
    "import numpy as np\n",
    "import matplotlib.pyplot as plt\n",
    "import seaborn as sns\n",
    "from ghgforcing import CO2, CH4\n",
    "import cPickle as pickle\n",
    "import gzip\n",
    "import os\n",
    "import re"
   ]
  },
  {
   "cell_type": "markdown",
   "metadata": {},
   "source": [
    "## Background Data"
   ]
  },
  {
   "cell_type": "markdown",
   "metadata": {},
   "source": [
    "### Coal Extraction Emissions\n",
    "\n",
    "GHG emissions for underground bituminous coal extraction are from the 2014 NETL report *Life Cycle Analysis of Natural Gas Extraction and Power Generation* [(1)](#References). They are 2.69E-2 kg CO<sub>2</sub> and 3.32E-3 kg CH<sub>4</sub> per kg of coal."
   ]
  },
  {
   "cell_type": "markdown",
   "metadata": {},
   "source": [
    "### Natural Gas Extraction and Transmission Emissions\n",
    "\n",
    "Methane emissions in the model are varied parametrically with the leakage rate. For every percent leakage, 1 kg of methane is emitted per 100 kg natural gas delivered. While CO2 emissions may vary with the methane leakage rate, we assume that they are fixed value equal to the 3.8 g/MJ reported by NETL in 2016 [(2)](#References)."
   ]
  },
  {
   "cell_type": "markdown",
   "metadata": {},
   "source": [
    "### Defining Emissions"
   ]
  },
  {
   "cell_type": "markdown",
   "metadata": {},
   "source": [
    "Our goal is to examine implications of building natural gas plants now rather than coal if advanced coal with CCS might have lower climate impacts than NGCC w/CCS when methane emission rates are above a certain amount.\n",
    "\n",
    "We start with new plants of each type and examine the following scenarios:\n",
    "\n",
    "- Fixed methane emission rates from natural gas varied from 1-5%. CCS with 90% capture is included at the start of operations or added after 20 years.\n",
    "- Emission rates decrease over time, starting at 1-5% and going down to half of the initial rate (minimum of 1%). CCS with 90% capture is included at the start of operations or added after 20 years.\n",
    "- CCS at 90% capture for the SCPC, but no CCS for the NGCC. Natural gas methane emissions are reduced over time, as above.\n",
    "- CCS at 16% capture for the SCPC, to match EPA Carbon Pollution Standards limit of 1,400 lb CO<sub>2</sub>/MWh gross. No CCS for the NGCC, both constant and reduced methane emissions."
   ]
  },
  {
   "cell_type": "markdown",
   "metadata": {},
   "source": [
    "### Emissions and feedstock value from the 2015 NETL baseline report [(3)](#References):\n",
    "\n",
    "- SCPC w/o CCS: 773.6 kg CO2/MWh net, 325.8 kg coal/MWh net\n",
    "    - A plant at 8,379 btu/kWh burning bit coal\n",
    "- SCPC w 90% CCS: 97.0 kg CO2/MWh net, 408.6 kg coal/MWh net\n",
    "    - Heat rate of 10,508 btu/kWh. 90% capture on a plant that starts at 8,379 btu/kWh\n",
    "- SCPC w CCS (82.2% bypass): 682.1 kg CO2/MWh net, 342.0 kg coal/MWh net \n",
    "    - **Calculated in PPFM [(4)](#References) starting with no capture and then adding CCS with 82.2% bypass**\n",
    "    - Heat rate of 8,795 btu/kWh. Approx. 16% capture on a plant that starts at 8,379 btu/kWh\n",
    "- NGCC w/o CCS: 353.2 kg CO2/MWh net, 133.4 kg NG/MWh net\n",
    "    - A plant at 6,629 btu/kWh burning natural gas\n",
    "- NGCC w 90% CCS: 39.8 kg CO2/MWh net, 150.2 kg NG/MWh net\n",
    "    - Heat rate of 7,466 btu/kWh. 90% capture on a plant that starts at 6,629 btu/kWh"
   ]
  },
  {
   "cell_type": "markdown",
   "metadata": {},
   "source": [
    "In the code below:\n",
    "\n",
    "- Time frame under examination is 100 years, with 0.01 year timesteps\n",
    "- Power plants operate for 60 years\n",
    "- CCS is implemented after an amount of time defined by *CCS_start*"
   ]
  },
  {
   "cell_type": "code",
   "execution_count": 2,
   "metadata": {
    "ExecuteTime": {
     "end_time": "2017-11-19T15:12:40.271991-05:00",
     "start_time": "2017-11-19T15:12:40.264104Z"
    }
   },
   "outputs": [],
   "source": [
    "size = 1000 # MW\n",
    "hours = 365 * 24\n",
    "capacity_factor = 0.8\n",
    "\n",
    "generation = size * hours * capacity_factor #MWh/yr\n",
    "\n",
    "end = 100\n",
    "tstep = 0.01\n",
    "time = np.linspace(0, end, num=int(end/tstep+1)) #time array\n",
    "life = 60"
   ]
  },
  {
   "cell_type": "markdown",
   "metadata": {},
   "source": [
    "## Define emissions"
   ]
  },
  {
   "cell_type": "markdown",
   "metadata": {},
   "source": [
    "### Natural Gas"
   ]
  },
  {
   "cell_type": "code",
   "execution_count": 3,
   "metadata": {
    "ExecuteTime": {
     "end_time": "2017-11-19T15:12:43.049486-05:00",
     "start_time": "2017-11-19T15:12:43.032946Z"
    },
    "collapsed": true
   },
   "outputs": [],
   "source": [
    "# Hardcoded/calculated emission values for natural gas and NGCC plants\n",
    "Mbtu_to_MJ = 1.05506 # MJ per Mbtu, used for heat rate conversion\n",
    "ngcc_ng = 133.4 #kg NG for 1MWh NGCC w/o CCS from PPFM (uses NG energy content of 52.43 MJ/kg)\n",
    "ngcc_ccs_ng = 150.2 #kg NG for 1MWh NGCC w CCS from PPFM (uses NG energy content of 52.43 MJ/kg)\n",
    "ngcc_MJ = 6629 * Mbtu_to_MJ # Convert btu/kWh heat rate to MJ/MWh\n",
    "ngcc_ccs_MJ = 7466 * Mbtu_to_MJ # Convert btu/kWh heat rate to MJ/MWh\n",
    "CH4_per_kg_leak = 0.01 #kg methane per % emission per kg NG\n",
    "CO2_per_MJ = 3.8 / 1000 #kg CO2 per % emission per MJ NG\n",
    "\n",
    "CH4_per_leak =  ngcc_ng * CH4_per_kg_leak\n",
    "CH4_per_leak_CCS = ngcc_ccs_ng * CH4_per_kg_leak\n",
    "base_CO2 = 357 + CO2_per_MJ * ngcc_MJ # From Exhibit 4-8 of Ref. 3\n",
    "base_CO2_CCS = 40 + CO2_per_MJ * ngcc_ccs_MJ # From Exhibit 4-22 of Ref. 3\n",
    "\n",
    "# Dictionary of emission values for NGCC power plants\n",
    "# Leak emissions are per percent leakage rate\n",
    "ng_emissions = {'0%': {'Fixed': {'CO2': base_CO2,\n",
    "                                   'CH4': 0},\n",
    "                           'Leak': {'CO2': 0,\n",
    "                                   'CH4': CH4_per_leak}\n",
    "                         },\n",
    "                 '90%': {'Fixed': {'CO2': base_CO2_CCS,\n",
    "                                   'CH4': 0},\n",
    "                           'Leak': {'CO2': 0,\n",
    "                                   'CH4': CH4_per_leak_CCS}\n",
    "                         }\n",
    "               }"
   ]
  },
  {
   "cell_type": "markdown",
   "metadata": {},
   "source": [
    "### Coal\n",
    "All coal feedstock and emission values that are calculated using the public NETL PPFM tool [(4)](#References) required the following adjustments to the tool, which uses parameters from a previous version of the NETL Cost and Performance Baseline report [(3)](#References):\n",
    "- Change the CO<sub>2</sub> compressor load factor (cell EX126 on the \"Flow_Chart\" sheet) to 11.77 kW/m<sup>3</sup>/s\n",
    "- Change the heat rate for Case 11 (SCPC w/o CCS) to 8,379 btu/kWh\n",
    "- Change the heat rate for Case 12 (SCPC w/ CCS) to 10,508 btu/kWh\n",
    "\n",
    "All values for the 111(b) scenario are calculated in PPFM using the following steps:\n",
    "- Start with Case 11 (SCPC w/o CCS)\n",
    "- Adjust the heat rate to 8,379 btu/kWh\n",
    "- Add CCS (cell B24 on the \"Summary_Sheet\")\n",
    "- Adjust the Capture bypass (cell B26) to 82.2%"
   ]
  },
  {
   "cell_type": "code",
   "execution_count": 4,
   "metadata": {
    "ExecuteTime": {
     "end_time": "2017-11-19T15:12:53.166853-05:00",
     "start_time": "2017-11-19T15:12:53.142181Z"
    },
    "collapsed": true
   },
   "outputs": [],
   "source": [
    "# Hardcoded/calculated emission values for coal and SCPC plants\n",
    "coal_co2 = 3.75E-2 #kg co2 per kg I6 coal from NETL 2014 NG report\n",
    "coal_ch4 = 7.64E-03 #kg ch4 per kg I6 coal from NETL 2014 NG report\n",
    "scpc_coal = 325.8 #kg coal for 1MWh SCPC w/o CCS from PPFM with heat rate of 8379 btu/kWh\n",
    "scpc_direct_co2 = 773.7 #kg co2 from 1MWh SCPC w/o CCS from PPFM with heat rate of 8379 btu/kWh\n",
    "scpc_co2 = scpc_direct_co2 + (scpc_coal * coal_co2)\n",
    "scpc_ch4 = scpc_coal * coal_ch4\n",
    "\n",
    "\n",
    "scpc_ccs_coal = 408.6 #kg coal for 1MWh SCPC w/ CCS from PPFM with heat rate of 10508 btu/kWh\n",
    "scpc_ccs_co2 = 97 #kg co2 from 1MWh SCPC w/ CCS from PPFM with heat rate of 10508 btu/kWh\n",
    "scpc_ccs_co2_product = 873.1 #kg co2 product from 1MWh SCPC w/ CCS from PPFM\n",
    "scpc_ccs_co2 = scpc_ccs_co2 + (scpc_ccs_coal * coal_co2)\n",
    "scpc_ccs_ch4 = scpc_ccs_coal * coal_ch4\n",
    "\n",
    "# All 111b values are based on emissions of 1,400 lb/MWh gross from final EPA 111(b) rule\n",
    "scpc_111b_coal = 342.1 #kg coal for 1MWh SCPC w/ CCS from PPFM\n",
    "scpc_111b_co2 = 682.2 #kg co2 from 1MWh SCPC w/ CCS from PPFM\n",
    "scpc_111b_co2_product = 122 #kg co2 product from 1MWh SCPC w/ CCS from PPFM\n",
    "scpc_111b_co2 = scpc_111b_co2 + (scpc_111b_coal * coal_co2)\n",
    "scpc_111b_ch4 = scpc_111b_coal * coal_ch4\n",
    "\n",
    "# Dictionary of emission values for NGCC power plants\n",
    "coal_emissions = {'90%': {'CO2':scpc_ccs_co2,\n",
    "                          'CH4': scpc_ccs_ch4},\n",
    "                  '0%': {'CO2':scpc_co2,\n",
    "                          'CH4':scpc_ch4},\n",
    "                  '16%':{'CO2':scpc_111b_co2,\n",
    "                          'CH4': scpc_111b_ch4}\n",
    "                 }"
   ]
  },
  {
   "cell_type": "code",
   "execution_count": 34,
   "metadata": {
    "ExecuteTime": {
     "end_time": "2017-11-20T13:11:56.425698-05:00",
     "start_time": "2017-11-20T13:11:55.984208Z"
    }
   },
   "outputs": [],
   "source": [
    "def emissions(coal_emissions, ng_emissions, CCS_start = 0, leakage_drop_by = 10, \n",
    "              leak_values=range(1,6), year_to_90CSS=20):\n",
    "    \"\"\"\n",
    "    Create CO2 and CH4 emission functions for each power plant scenario. All \n",
    "    natural gas scenarios include both constant leakage rates and leakage rates \n",
    "    that are reduced by half over time.\n",
    "    \n",
    "    inputs:\n",
    "        coal_emissions: dict\n",
    "            Dictionary of CO2 and CH4 emission values for each CCS capture rate\n",
    "        ng_emissions: dict\n",
    "            Dictionary of CO2 and CH4 emission values for each CCS capture rate\n",
    "            with additional keys for fixed values and values that vary by leakage\n",
    "        CCS_start: int\n",
    "            Year of operation that CCS begins\n",
    "        leakage_drop_by: int\n",
    "            Year of operation where methane emissions have dropped\n",
    "            by half of initial value.\n",
    "        leak_values: list or other iterable\n",
    "            Numeric values representing leakage rate scenarios. 1 = 1%, etc.\n",
    "        year_to_90CCS: int\n",
    "            If coal CCS starts at 111b levels (16%), this is the year where it\n",
    "            changes to 90% capture.\n",
    "    outputs:\n",
    "        emissions_df: dataframe\n",
    "            A single tidy dataframe with all emission scenarios\n",
    "        df_list: list of dataframes\n",
    "            A list with individual dataframes for each specific emission scenario\n",
    "    \"\"\"\n",
    "   \n",
    "    leak = {} # dictionary of leak values\n",
    "    for value in leak_values:\n",
    "        # Change values to integer if possible\n",
    "        if (type(value) == float) and (value - int(value) == 0):\n",
    "            value = int(value)\n",
    "        \n",
    "        key = 'NGCC ' + str(value) + '%' # define the key for a leak value\n",
    "        leak[key] = float(value) # Add key and value to the dictionary\n",
    "\n",
    "\n",
    "\n",
    "\n",
    "    # Empty dataframes for leakage rates (constant and reduced)\n",
    "    leakage = pd.DataFrame(index=time, columns=leak.keys())\n",
    "    leakage_drop = pd.DataFrame(index=time, columns=leak.keys())\n",
    "\n",
    "    for rate in leak.keys():\n",
    "        #Initial methane emission (or leak) rate\n",
    "        leakage.loc[:,rate] = leak[rate]\n",
    "\n",
    "        #Methane emission rate that drops over time. Starts at initial, with a linear\n",
    "        #decrease until half of initial.\n",
    "        leakage_drop.loc[:,rate] = leak[rate]\n",
    "        if rate != 'NGCC 1%':\n",
    "            # Use linspace to interpolate between values\n",
    "            leakage_drop.loc[:leakage_drop_by,rate] = np.linspace(leak[rate], leak[rate]/2,\n",
    "                                                                 leakage_drop_by/tstep+1)\n",
    "            leakage_drop.loc[leakage_drop_by:life,rate] = leak[rate]/2\n",
    "            leakage_drop.loc[life:,rate] = 0\n",
    "    \n",
    "    df_list = []      \n",
    "    \n",
    "    # NGCC emissions - don't worry about delayed CCS yet\n",
    "    for l in leak.keys():\n",
    "        for ccs in ng_emissions.keys():\n",
    "            # Constant methane\n",
    "            df = pd.DataFrame(index=time, \n",
    "                              columns=['CO2', 'CH4', 'Leak', 'CCS', 'Fuel', 'Methane', 'Start year'])\n",
    "            df.loc[:,'Start year'] = CCS_start\n",
    "            df.loc[:,'Methane'] = 'Constant'\n",
    "            df.loc[:,'Fuel'] = 'NG'\n",
    "            df.loc[:,'CCS'] = ccs\n",
    "            df.loc[:,'Leak'] = l\n",
    "            df.loc[:,'CO2'] = ng_emissions[ccs]['Fixed']['CO2']\n",
    "            df.loc[:,'CH4'] = ng_emissions[ccs]['Leak']['CH4'] * leakage.loc[:,l].copy()\n",
    "            \n",
    "            # This gets complicated when accounting for delayed CCS start\n",
    "            if CCS_start > 0:\n",
    "                df.loc[:CCS_start,'CO2'] = ng_emissions['0%']['Fixed']['CO2'] #* \n",
    "                                            #np.ones_like(leakage.loc[:CCS_start,l]))\n",
    "                df.loc[:CCS_start,'CH4'] = ng_emissions['0%']['Leak']['CH4'] * leakage.loc[:CCS_start,l].copy()\n",
    "            df.loc[60:,['CO2', 'CH4']] = 0\n",
    "            df_list.append(df)\n",
    "            \n",
    "            # Reduced methane\n",
    "            df = pd.DataFrame(index=time, \n",
    "                              columns=['CO2', 'CH4', 'Leak', 'CCS', 'Fuel', 'Methane', 'Start year'])\n",
    "            df.loc[:,'Start year'] = CCS_start\n",
    "            df.loc[:,'Methane'] = 'Reduce'\n",
    "            df.loc[:,'Fuel'] = 'NG'\n",
    "            df.loc[:,'CCS'] = ccs\n",
    "            df.loc[:,'Leak'] = l\n",
    "            df.loc[:,'CO2'] = ng_emissions[ccs]['Fixed']['CO2']\n",
    "            df.loc[:,'CH4'] = ng_emissions[ccs]['Leak']['CH4'] * leakage_drop.loc[:,l].copy()\n",
    "\n",
    "            # This gets complicated when accounting for delayed CCS start\n",
    "            if CCS_start > 0:\n",
    "                df.loc[:CCS_start,'CO2'] = ng_emissions['0%']['Fixed']['CO2'] #* \n",
    "                                            #np.ones_like(leakage_drop.loc[:CCS_start,l]))\n",
    "                df.loc[:CCS_start,'CH4'] = ng_emissions['0%']['Leak']['CH4'] * leakage_drop.loc[:CCS_start,l].copy()\n",
    "            df.loc[60:,['CO2', 'CH4']] = 0\n",
    "            df_list.append(df)\n",
    "                \n",
    "                    \n",
    "    # SCPC emissions\n",
    "    for ccs in coal_emissions.keys():\n",
    "        df = pd.DataFrame(index=time, \n",
    "                              columns=['CO2', 'CH4', 'Leak', 'CCS', 'Fuel', 'Methane', 'Start year'])\n",
    "        df.loc[:,'Start year'] = CCS_start\n",
    "        df.loc[:,'Methane'] = '-'\n",
    "        df.loc[:,'Fuel'] = 'Coal'\n",
    "        df.loc[:,'CCS'] = ccs\n",
    "        df.loc[:,'Leak'] = 'SCPC' \n",
    "        df.loc[:,'CO2'] = coal_emissions[ccs]['CO2'] \n",
    "        df.loc[:,'CH4'] = coal_emissions[ccs]['CH4']\n",
    "        df.loc[60:,['CO2', 'CH4']] = 0\n",
    "        \n",
    "        if CCS_start > 0:\n",
    "            df.loc[:CCS_start,'CO2'] = coal_emissions['0%']['CO2']\n",
    "            df.loc[:CCS_start,'CH4'] = coal_emissions['0%']['CH4']\n",
    "        df_list.append(df)\n",
    "            \n",
    "    emissions_df = pd.concat(df_list)\n",
    "    \n",
    "    # Add one more scenario for CCS that goes from 16% to 90%\n",
    "    if year_to_90CSS > 0 and CCS_start == 0:\n",
    "        df = emissions_df.loc[emissions_df['CCS'] == '16%',:]\n",
    "        df_90 = emissions_df.loc[(emissions_df['Fuel'] == 'Coal') & (emissions_df['CCS'] == '90%'),:]\n",
    "        df.loc[year_to_90CSS:,['CO2', 'CH4']] = df_90.loc[year_to_90CSS:,['CO2', 'CH4']]\n",
    "        df.loc[:,'CCS'] = '16%-90%'\n",
    "        emissions_df = pd.concat([emissions_df, df])\n",
    "        df_list.append(df)\n",
    "    \n",
    "    # Set values in the Time column and reset index in both the large dataframe\n",
    "    # and each of the individual dataframes\n",
    "    emissions_df.loc[:,'Time'] = emissions_df.index\n",
    "    emissions_df.reset_index(drop=True, inplace=True)\n",
    "    \n",
    "    for df in df_list:\n",
    "        df.loc[:,'Time'] = df.index\n",
    "        df.reset_index(drop=True, inplace=True)\n",
    " \n",
    "    return emissions_df#, df_list"
   ]
  },
  {
   "cell_type": "code",
   "execution_count": 35,
   "metadata": {
    "ExecuteTime": {
     "end_time": "2017-11-20T13:12:06.470538-05:00",
     "start_time": "2017-11-20T13:12:01.750817Z"
    }
   },
   "outputs": [
    {
     "name": "stderr",
     "output_type": "stream",
     "text": [
      "/Users/Home/anaconda/lib/python2.7/site-packages/ipykernel/__main__.py:57: DeprecationWarning: object of type <type 'float'> cannot be safely interpreted as an integer.\n",
      "/Users/Home/anaconda/lib/python2.7/site-packages/ipykernel/__main__.py:129: SettingWithCopyWarning: \n",
      "A value is trying to be set on a copy of a slice from a DataFrame\n",
      "\n",
      "See the caveats in the documentation: http://pandas.pydata.org/pandas-docs/stable/indexing.html#indexing-view-versus-copy\n",
      "/Users/Home/anaconda/lib/python2.7/site-packages/ipykernel/__main__.py:130: SettingWithCopyWarning: \n",
      "A value is trying to be set on a copy of a slice from a DataFrame\n",
      "\n",
      "See the caveats in the documentation: http://pandas.pydata.org/pandas-docs/stable/indexing.html#indexing-view-versus-copy\n"
     ]
    }
   ],
   "source": [
    "delay_years = [0, 10, 20, 30]\n",
    "emissions_df = pd.concat([emissions(coal_emissions,\n",
    "                                   ng_emissions,\n",
    "                                   CCS_start=x,\n",
    "                                   leak_values=range(1,11))\n",
    "                         for x in delay_years])"
   ]
  },
  {
   "cell_type": "code",
   "execution_count": 6,
   "metadata": {
    "ExecuteTime": {
     "end_time": "2017-11-19T15:14:05.016044-05:00",
     "start_time": "2017-11-19T15:14:02.023429Z"
    }
   },
   "outputs": [
    {
     "name": "stderr",
     "output_type": "stream",
     "text": [
      "/Users/Home/anaconda/lib/python2.7/site-packages/ipykernel/__main__.py:57: DeprecationWarning: object of type <type 'float'> cannot be safely interpreted as an integer.\n",
      "/Users/Home/anaconda/lib/python2.7/site-packages/pandas/core/indexing.py:179: SettingWithCopyWarning: \n",
      "A value is trying to be set on a copy of a slice from a DataFrame\n",
      "\n",
      "See the caveats in the documentation: http://pandas.pydata.org/pandas-docs/stable/indexing.html#indexing-view-versus-copy\n",
      "  self._setitem_with_indexer(indexer, value)\n",
      "/Users/Home/anaconda/lib/python2.7/site-packages/ipykernel/__main__.py:129: SettingWithCopyWarning: \n",
      "A value is trying to be set on a copy of a slice from a DataFrame\n",
      "\n",
      "See the caveats in the documentation: http://pandas.pydata.org/pandas-docs/stable/indexing.html#indexing-view-versus-copy\n",
      "/Users/Home/anaconda/lib/python2.7/site-packages/ipykernel/__main__.py:130: SettingWithCopyWarning: \n",
      "A value is trying to be set on a copy of a slice from a DataFrame\n",
      "\n",
      "See the caveats in the documentation: http://pandas.pydata.org/pandas-docs/stable/indexing.html#indexing-view-versus-copy\n"
     ]
    }
   ],
   "source": [
    "start_emissions, start_list = emissions(coal_emissions, ng_emissions, leak_values=range(1,11))\n",
    "delay_emissions_5, delay_list_5 = emissions(coal_emissions, ng_emissions, CCS_start=5, leak_values=range(1,11))\n",
    "delay_emissions_10, delay_list_10 = emissions(coal_emissions, ng_emissions, CCS_start=10, leak_values=range(1,11))\n",
    "delay_emissions_15, delay_list_15 = emissions(coal_emissions, ng_emissions, CCS_start=15, leak_values=range(1,11))\n",
    "delay_emissions_20, delay_list_20 = emissions(coal_emissions, ng_emissions, CCS_start=20, leak_values=range(1,11))"
   ]
  },
  {
   "cell_type": "code",
   "execution_count": 26,
   "metadata": {
    "ExecuteTime": {
     "end_time": "2017-11-20T11:12:36.735531-05:00",
     "start_time": "2017-11-20T11:12:36.707828Z"
    }
   },
   "outputs": [
    {
     "data": {
      "text/html": [
       "<div>\n",
       "<style>\n",
       "    .dataframe thead tr:only-child th {\n",
       "        text-align: right;\n",
       "    }\n",
       "\n",
       "    .dataframe thead th {\n",
       "        text-align: left;\n",
       "    }\n",
       "\n",
       "    .dataframe tbody tr th {\n",
       "        vertical-align: top;\n",
       "    }\n",
       "</style>\n",
       "<table border=\"1\" class=\"dataframe\">\n",
       "  <thead>\n",
       "    <tr style=\"text-align: right;\">\n",
       "      <th></th>\n",
       "      <th>CO2</th>\n",
       "      <th>CH4</th>\n",
       "      <th>Leak</th>\n",
       "      <th>CCS</th>\n",
       "      <th>Fuel</th>\n",
       "      <th>Methane</th>\n",
       "      <th>Start year</th>\n",
       "      <th>Time</th>\n",
       "    </tr>\n",
       "  </thead>\n",
       "  <tbody>\n",
       "    <tr>\n",
       "      <th>0</th>\n",
       "      <td>69.9329</td>\n",
       "      <td>1.502</td>\n",
       "      <td>NGCC 1%</td>\n",
       "      <td>90%</td>\n",
       "      <td>NG</td>\n",
       "      <td>Constant</td>\n",
       "      <td>0</td>\n",
       "      <td>0.00</td>\n",
       "    </tr>\n",
       "    <tr>\n",
       "      <th>1</th>\n",
       "      <td>69.9329</td>\n",
       "      <td>1.502</td>\n",
       "      <td>NGCC 1%</td>\n",
       "      <td>90%</td>\n",
       "      <td>NG</td>\n",
       "      <td>Constant</td>\n",
       "      <td>0</td>\n",
       "      <td>0.01</td>\n",
       "    </tr>\n",
       "    <tr>\n",
       "      <th>2</th>\n",
       "      <td>69.9329</td>\n",
       "      <td>1.502</td>\n",
       "      <td>NGCC 1%</td>\n",
       "      <td>90%</td>\n",
       "      <td>NG</td>\n",
       "      <td>Constant</td>\n",
       "      <td>0</td>\n",
       "      <td>0.02</td>\n",
       "    </tr>\n",
       "    <tr>\n",
       "      <th>3</th>\n",
       "      <td>69.9329</td>\n",
       "      <td>1.502</td>\n",
       "      <td>NGCC 1%</td>\n",
       "      <td>90%</td>\n",
       "      <td>NG</td>\n",
       "      <td>Constant</td>\n",
       "      <td>0</td>\n",
       "      <td>0.03</td>\n",
       "    </tr>\n",
       "    <tr>\n",
       "      <th>4</th>\n",
       "      <td>69.9329</td>\n",
       "      <td>1.502</td>\n",
       "      <td>NGCC 1%</td>\n",
       "      <td>90%</td>\n",
       "      <td>NG</td>\n",
       "      <td>Constant</td>\n",
       "      <td>0</td>\n",
       "      <td>0.04</td>\n",
       "    </tr>\n",
       "  </tbody>\n",
       "</table>\n",
       "</div>"
      ],
      "text/plain": [
       "       CO2    CH4     Leak  CCS Fuel   Methane Start year  Time\n",
       "0  69.9329  1.502  NGCC 1%  90%   NG  Constant          0  0.00\n",
       "1  69.9329  1.502  NGCC 1%  90%   NG  Constant          0  0.01\n",
       "2  69.9329  1.502  NGCC 1%  90%   NG  Constant          0  0.02\n",
       "3  69.9329  1.502  NGCC 1%  90%   NG  Constant          0  0.03\n",
       "4  69.9329  1.502  NGCC 1%  90%   NG  Constant          0  0.04"
      ]
     },
     "execution_count": 26,
     "metadata": {},
     "output_type": "execute_result"
    }
   ],
   "source": [
    "emissions_df.head()"
   ]
  },
  {
   "cell_type": "code",
   "execution_count": 27,
   "metadata": {
    "ExecuteTime": {
     "end_time": "2017-11-20T11:12:42.928026-05:00",
     "start_time": "2017-11-20T11:12:42.907240Z"
    }
   },
   "outputs": [
    {
     "data": {
      "text/html": [
       "<div>\n",
       "<style>\n",
       "    .dataframe thead tr:only-child th {\n",
       "        text-align: right;\n",
       "    }\n",
       "\n",
       "    .dataframe thead th {\n",
       "        text-align: left;\n",
       "    }\n",
       "\n",
       "    .dataframe tbody tr th {\n",
       "        vertical-align: top;\n",
       "    }\n",
       "</style>\n",
       "<table border=\"1\" class=\"dataframe\">\n",
       "  <thead>\n",
       "    <tr style=\"text-align: right;\">\n",
       "      <th></th>\n",
       "      <th>CO2</th>\n",
       "      <th>CH4</th>\n",
       "      <th>Leak</th>\n",
       "      <th>CCS</th>\n",
       "      <th>Fuel</th>\n",
       "      <th>Methane</th>\n",
       "      <th>Start year</th>\n",
       "      <th>Time</th>\n",
       "    </tr>\n",
       "  </thead>\n",
       "  <tbody>\n",
       "    <tr>\n",
       "      <th>430038</th>\n",
       "      <td>0</td>\n",
       "      <td>0</td>\n",
       "      <td>SCPC</td>\n",
       "      <td>90%</td>\n",
       "      <td>Coal</td>\n",
       "      <td>None</td>\n",
       "      <td>30</td>\n",
       "      <td>99.96</td>\n",
       "    </tr>\n",
       "    <tr>\n",
       "      <th>430039</th>\n",
       "      <td>0</td>\n",
       "      <td>0</td>\n",
       "      <td>SCPC</td>\n",
       "      <td>90%</td>\n",
       "      <td>Coal</td>\n",
       "      <td>None</td>\n",
       "      <td>30</td>\n",
       "      <td>99.97</td>\n",
       "    </tr>\n",
       "    <tr>\n",
       "      <th>430040</th>\n",
       "      <td>0</td>\n",
       "      <td>0</td>\n",
       "      <td>SCPC</td>\n",
       "      <td>90%</td>\n",
       "      <td>Coal</td>\n",
       "      <td>None</td>\n",
       "      <td>30</td>\n",
       "      <td>99.98</td>\n",
       "    </tr>\n",
       "    <tr>\n",
       "      <th>430041</th>\n",
       "      <td>0</td>\n",
       "      <td>0</td>\n",
       "      <td>SCPC</td>\n",
       "      <td>90%</td>\n",
       "      <td>Coal</td>\n",
       "      <td>None</td>\n",
       "      <td>30</td>\n",
       "      <td>99.99</td>\n",
       "    </tr>\n",
       "    <tr>\n",
       "      <th>430042</th>\n",
       "      <td>0</td>\n",
       "      <td>0</td>\n",
       "      <td>SCPC</td>\n",
       "      <td>90%</td>\n",
       "      <td>Coal</td>\n",
       "      <td>None</td>\n",
       "      <td>30</td>\n",
       "      <td>100.00</td>\n",
       "    </tr>\n",
       "  </tbody>\n",
       "</table>\n",
       "</div>"
      ],
      "text/plain": [
       "       CO2 CH4  Leak  CCS  Fuel Methane Start year    Time\n",
       "430038   0   0  SCPC  90%  Coal    None         30   99.96\n",
       "430039   0   0  SCPC  90%  Coal    None         30   99.97\n",
       "430040   0   0  SCPC  90%  Coal    None         30   99.98\n",
       "430041   0   0  SCPC  90%  Coal    None         30   99.99\n",
       "430042   0   0  SCPC  90%  Coal    None         30  100.00"
      ]
     },
     "execution_count": 27,
     "metadata": {},
     "output_type": "execute_result"
    }
   ],
   "source": [
    "emissions_df.tail()"
   ]
  },
  {
   "cell_type": "markdown",
   "metadata": {},
   "source": [
    "### Create tables for the SI"
   ]
  },
  {
   "cell_type": "markdown",
   "metadata": {},
   "source": [
    "#### Natural gas power plants table"
   ]
  },
  {
   "cell_type": "code",
   "execution_count": 7,
   "metadata": {
    "ExecuteTime": {
     "end_time": "2017-11-19T15:19:37.678133-05:00",
     "start_time": "2017-11-19T15:19:37.662728Z"
    }
   },
   "outputs": [],
   "source": [
    "iterables = [['0%', '90%'], ['1%', '2%', '3%', '4%', '5%']]\n",
    "ng_index = pd.MultiIndex.from_product(iterables, names=['Capture', 'Leak'])"
   ]
  },
  {
   "cell_type": "code",
   "execution_count": 10,
   "metadata": {
    "ExecuteTime": {
     "end_time": "2017-11-19T15:19:52.604857-05:00",
     "start_time": "2017-11-19T15:19:52.599631Z"
    }
   },
   "outputs": [],
   "source": [
    "ng_df = pd.DataFrame(index=ng_index, columns=['Heat Rate (btu/kWh)', 'Efficiency', 'Fuel Input (kg/MWh)',\n",
    "                                              'Plant CO2 (kg/MWh)', 'Fuel CO2 (kg/MWh)', 'Fuel CH4 (kg/MWh)'])"
   ]
  },
  {
   "cell_type": "code",
   "execution_count": 11,
   "metadata": {
    "ExecuteTime": {
     "end_time": "2017-11-19T15:19:57.486604-05:00",
     "start_time": "2017-11-19T15:19:57.428635Z"
    }
   },
   "outputs": [
    {
     "data": {
      "text/html": [
       "<div>\n",
       "<style>\n",
       "    .dataframe thead tr:only-child th {\n",
       "        text-align: right;\n",
       "    }\n",
       "\n",
       "    .dataframe thead th {\n",
       "        text-align: left;\n",
       "    }\n",
       "\n",
       "    .dataframe tbody tr th {\n",
       "        vertical-align: top;\n",
       "    }\n",
       "</style>\n",
       "<table border=\"1\" class=\"dataframe\">\n",
       "  <thead>\n",
       "    <tr style=\"text-align: right;\">\n",
       "      <th></th>\n",
       "      <th></th>\n",
       "      <th>Heat Rate (btu/kWh)</th>\n",
       "      <th>Efficiency</th>\n",
       "      <th>Fuel Input (kg/MWh)</th>\n",
       "      <th>Plant CO2 (kg/MWh)</th>\n",
       "      <th>Fuel CO2 (kg/MWh)</th>\n",
       "      <th>Fuel CH4 (kg/MWh)</th>\n",
       "      <th>Total CO2 (kg/MWh)</th>\n",
       "    </tr>\n",
       "    <tr>\n",
       "      <th>Capture</th>\n",
       "      <th>Leak</th>\n",
       "      <th></th>\n",
       "      <th></th>\n",
       "      <th></th>\n",
       "      <th></th>\n",
       "      <th></th>\n",
       "      <th></th>\n",
       "      <th></th>\n",
       "    </tr>\n",
       "  </thead>\n",
       "  <tbody>\n",
       "    <tr>\n",
       "      <th rowspan=\"5\" valign=\"top\">0%</th>\n",
       "      <th>1%</th>\n",
       "      <td>6629</td>\n",
       "      <td>0.514708</td>\n",
       "      <td>133.4</td>\n",
       "      <td>357</td>\n",
       "      <td>26.5772</td>\n",
       "      <td>1.334</td>\n",
       "      <td>383.577</td>\n",
       "    </tr>\n",
       "    <tr>\n",
       "      <th>2%</th>\n",
       "      <td>6629</td>\n",
       "      <td>0.514708</td>\n",
       "      <td>133.4</td>\n",
       "      <td>357</td>\n",
       "      <td>26.5772</td>\n",
       "      <td>2.668</td>\n",
       "      <td>383.577</td>\n",
       "    </tr>\n",
       "    <tr>\n",
       "      <th>3%</th>\n",
       "      <td>6629</td>\n",
       "      <td>0.514708</td>\n",
       "      <td>133.4</td>\n",
       "      <td>357</td>\n",
       "      <td>26.5772</td>\n",
       "      <td>4.002</td>\n",
       "      <td>383.577</td>\n",
       "    </tr>\n",
       "    <tr>\n",
       "      <th>4%</th>\n",
       "      <td>6629</td>\n",
       "      <td>0.514708</td>\n",
       "      <td>133.4</td>\n",
       "      <td>357</td>\n",
       "      <td>26.5772</td>\n",
       "      <td>5.336</td>\n",
       "      <td>383.577</td>\n",
       "    </tr>\n",
       "    <tr>\n",
       "      <th>5%</th>\n",
       "      <td>6629</td>\n",
       "      <td>0.514708</td>\n",
       "      <td>133.4</td>\n",
       "      <td>357</td>\n",
       "      <td>26.5772</td>\n",
       "      <td>6.67</td>\n",
       "      <td>383.577</td>\n",
       "    </tr>\n",
       "    <tr>\n",
       "      <th rowspan=\"5\" valign=\"top\">90%</th>\n",
       "      <th>1%</th>\n",
       "      <td>7466</td>\n",
       "      <td>0.457005</td>\n",
       "      <td>150.2</td>\n",
       "      <td>40</td>\n",
       "      <td>29.9329</td>\n",
       "      <td>1.502</td>\n",
       "      <td>69.9329</td>\n",
       "    </tr>\n",
       "    <tr>\n",
       "      <th>2%</th>\n",
       "      <td>7466</td>\n",
       "      <td>0.457005</td>\n",
       "      <td>150.2</td>\n",
       "      <td>40</td>\n",
       "      <td>29.9329</td>\n",
       "      <td>3.004</td>\n",
       "      <td>69.9329</td>\n",
       "    </tr>\n",
       "    <tr>\n",
       "      <th>3%</th>\n",
       "      <td>7466</td>\n",
       "      <td>0.457005</td>\n",
       "      <td>150.2</td>\n",
       "      <td>40</td>\n",
       "      <td>29.9329</td>\n",
       "      <td>4.506</td>\n",
       "      <td>69.9329</td>\n",
       "    </tr>\n",
       "    <tr>\n",
       "      <th>4%</th>\n",
       "      <td>7466</td>\n",
       "      <td>0.457005</td>\n",
       "      <td>150.2</td>\n",
       "      <td>40</td>\n",
       "      <td>29.9329</td>\n",
       "      <td>6.008</td>\n",
       "      <td>69.9329</td>\n",
       "    </tr>\n",
       "    <tr>\n",
       "      <th>5%</th>\n",
       "      <td>7466</td>\n",
       "      <td>0.457005</td>\n",
       "      <td>150.2</td>\n",
       "      <td>40</td>\n",
       "      <td>29.9329</td>\n",
       "      <td>7.51</td>\n",
       "      <td>69.9329</td>\n",
       "    </tr>\n",
       "  </tbody>\n",
       "</table>\n",
       "</div>"
      ],
      "text/plain": [
       "             Heat Rate (btu/kWh)  Efficiency Fuel Input (kg/MWh)  \\\n",
       "Capture Leak                                                       \n",
       "0%      1%                  6629    0.514708               133.4   \n",
       "        2%                  6629    0.514708               133.4   \n",
       "        3%                  6629    0.514708               133.4   \n",
       "        4%                  6629    0.514708               133.4   \n",
       "        5%                  6629    0.514708               133.4   \n",
       "90%     1%                  7466    0.457005               150.2   \n",
       "        2%                  7466    0.457005               150.2   \n",
       "        3%                  7466    0.457005               150.2   \n",
       "        4%                  7466    0.457005               150.2   \n",
       "        5%                  7466    0.457005               150.2   \n",
       "\n",
       "             Plant CO2 (kg/MWh) Fuel CO2 (kg/MWh) Fuel CH4 (kg/MWh)  \\\n",
       "Capture Leak                                                          \n",
       "0%      1%                  357           26.5772             1.334   \n",
       "        2%                  357           26.5772             2.668   \n",
       "        3%                  357           26.5772             4.002   \n",
       "        4%                  357           26.5772             5.336   \n",
       "        5%                  357           26.5772              6.67   \n",
       "90%     1%                   40           29.9329             1.502   \n",
       "        2%                   40           29.9329             3.004   \n",
       "        3%                   40           29.9329             4.506   \n",
       "        4%                   40           29.9329             6.008   \n",
       "        5%                   40           29.9329              7.51   \n",
       "\n",
       "             Total CO2 (kg/MWh)  \n",
       "Capture Leak                     \n",
       "0%      1%              383.577  \n",
       "        2%              383.577  \n",
       "        3%              383.577  \n",
       "        4%              383.577  \n",
       "        5%              383.577  \n",
       "90%     1%              69.9329  \n",
       "        2%              69.9329  \n",
       "        3%              69.9329  \n",
       "        4%              69.9329  \n",
       "        5%              69.9329  "
      ]
     },
     "execution_count": 11,
     "metadata": {},
     "output_type": "execute_result"
    }
   ],
   "source": [
    "ng_df.loc['0%','Heat Rate (btu/kWh)'] = 6629\n",
    "ng_df.loc['90%','Heat Rate (btu/kWh)'] = 7466\n",
    "ng_df.loc[:,'Efficiency'] = ng_df.loc[:,'Heat Rate (btu/kWh)'].map(lambda x: 3412/x)\n",
    "ng_df.loc['0%','Fuel Input (kg/MWh)'] = 133.4\n",
    "ng_df.loc['90%','Fuel Input (kg/MWh)'] = 150.2\n",
    "ng_df.loc['0%','Plant CO2 (kg/MWh)'] = 357\n",
    "ng_df.loc['90%','Plant CO2 (kg/MWh)'] = 40\n",
    "ng_df.loc[:,'Fuel CH4 (kg/MWh)'] = np.array(range(1,6) * 2) * ng_df.loc[:,'Fuel Input (kg/MWh)'] * 0.01\n",
    "ng_df.loc['0%','Fuel CO2 (kg/MWh)'] = CO2_per_MJ * ngcc_MJ\n",
    "ng_df.loc['90%','Fuel CO2 (kg/MWh)'] = CO2_per_MJ * ngcc_ccs_MJ\n",
    "ng_df.loc[:,'Total CO2 (kg/MWh)'] = ng_df.loc[:,'Fuel CO2 (kg/MWh)'] + ng_df.loc[:,'Plant CO2 (kg/MWh)']\n",
    "ng_df"
   ]
  },
  {
   "cell_type": "code",
   "execution_count": 34,
   "metadata": {
    "collapsed": true
   },
   "outputs": [],
   "source": [
    "ng_df.to_csv('Natural gas SI table.csv')"
   ]
  },
  {
   "cell_type": "markdown",
   "metadata": {},
   "source": [
    "#### Coal power plants table"
   ]
  },
  {
   "cell_type": "code",
   "execution_count": 12,
   "metadata": {
    "ExecuteTime": {
     "end_time": "2017-11-19T15:20:05.704388-05:00",
     "start_time": "2017-11-19T15:20:05.698184Z"
    },
    "collapsed": true
   },
   "outputs": [],
   "source": [
    "c_df = pd.DataFrame(index=['0%', '16%', '90%'], columns=['Heat Rate (btu/kWh)', 'Efficiency', 'Fuel Input (kg/MWh)',\n",
    "                                              'Plant CO2 (kg/MWh)', 'Fuel CO2 (kg/MWh)', 'Fuel CH4 (kg/MWh)'])"
   ]
  },
  {
   "cell_type": "code",
   "execution_count": 13,
   "metadata": {
    "ExecuteTime": {
     "end_time": "2017-11-19T15:20:10.714211-05:00",
     "start_time": "2017-11-19T15:20:10.696117Z"
    }
   },
   "outputs": [],
   "source": [
    "c_df.loc[:,'Heat Rate (btu/kWh)'] = np.array([8379, 8798, 10508])\n",
    "c_df.loc[:,'Efficiency'] = 3412 * 100 / np.array([8379, 8795, 10508])\n",
    "c_df.loc[:,'Fuel Input (kg/MWh)'] = np.array([325.8, 342.1, 408.6])\n",
    "c_df.loc[:, 'Plant CO2 (kg/MWh)'] = np.array([773.6, 682.2, 97.0])\n",
    "c_df.loc[:, 'Fuel CO2 (kg/MWh)'] = c_df.loc[:,'Fuel Input (kg/MWh)'] * 3.75E-2\n",
    "c_df.loc[:, 'Total CO2 (kg/MWh)'] = c_df.loc[:,'Plant CO2 (kg/MWh)'] + c_df.loc[:,'Fuel CO2 (kg/MWh)']\n",
    "c_df.loc[:, 'Fuel CH4 (kg/MWh)'] = c_df.loc[:,'Fuel Input (kg/MWh)'] * 7.64E-03"
   ]
  },
  {
   "cell_type": "code",
   "execution_count": 14,
   "metadata": {
    "ExecuteTime": {
     "end_time": "2017-11-19T15:20:17.122347-05:00",
     "start_time": "2017-11-19T15:20:17.103883Z"
    }
   },
   "outputs": [
    {
     "data": {
      "text/html": [
       "<div>\n",
       "<style>\n",
       "    .dataframe thead tr:only-child th {\n",
       "        text-align: right;\n",
       "    }\n",
       "\n",
       "    .dataframe thead th {\n",
       "        text-align: left;\n",
       "    }\n",
       "\n",
       "    .dataframe tbody tr th {\n",
       "        vertical-align: top;\n",
       "    }\n",
       "</style>\n",
       "<table border=\"1\" class=\"dataframe\">\n",
       "  <thead>\n",
       "    <tr style=\"text-align: right;\">\n",
       "      <th></th>\n",
       "      <th>Heat Rate (btu/kWh)</th>\n",
       "      <th>Efficiency</th>\n",
       "      <th>Fuel Input (kg/MWh)</th>\n",
       "      <th>Plant CO2 (kg/MWh)</th>\n",
       "      <th>Fuel CO2 (kg/MWh)</th>\n",
       "      <th>Fuel CH4 (kg/MWh)</th>\n",
       "      <th>Total CO2 (kg/MWh)</th>\n",
       "    </tr>\n",
       "  </thead>\n",
       "  <tbody>\n",
       "    <tr>\n",
       "      <th>0%</th>\n",
       "      <td>8379</td>\n",
       "      <td>40.720850</td>\n",
       "      <td>325.8</td>\n",
       "      <td>773.6</td>\n",
       "      <td>12.21750</td>\n",
       "      <td>2.489112</td>\n",
       "      <td>785.81750</td>\n",
       "    </tr>\n",
       "    <tr>\n",
       "      <th>16%</th>\n",
       "      <td>8798</td>\n",
       "      <td>38.794770</td>\n",
       "      <td>342.1</td>\n",
       "      <td>682.2</td>\n",
       "      <td>12.82875</td>\n",
       "      <td>2.613644</td>\n",
       "      <td>695.02875</td>\n",
       "    </tr>\n",
       "    <tr>\n",
       "      <th>90%</th>\n",
       "      <td>10508</td>\n",
       "      <td>32.470499</td>\n",
       "      <td>408.6</td>\n",
       "      <td>97.0</td>\n",
       "      <td>15.32250</td>\n",
       "      <td>3.121704</td>\n",
       "      <td>112.32250</td>\n",
       "    </tr>\n",
       "  </tbody>\n",
       "</table>\n",
       "</div>"
      ],
      "text/plain": [
       "     Heat Rate (btu/kWh)  Efficiency  Fuel Input (kg/MWh)  Plant CO2 (kg/MWh)  \\\n",
       "0%                  8379   40.720850                325.8               773.6   \n",
       "16%                 8798   38.794770                342.1               682.2   \n",
       "90%                10508   32.470499                408.6                97.0   \n",
       "\n",
       "     Fuel CO2 (kg/MWh)  Fuel CH4 (kg/MWh)  Total CO2 (kg/MWh)  \n",
       "0%            12.21750           2.489112           785.81750  \n",
       "16%           12.82875           2.613644           695.02875  \n",
       "90%           15.32250           3.121704           112.32250  "
      ]
     },
     "execution_count": 14,
     "metadata": {},
     "output_type": "execute_result"
    }
   ],
   "source": [
    "c_df"
   ]
  },
  {
   "cell_type": "code",
   "execution_count": 30,
   "metadata": {},
   "outputs": [],
   "source": [
    "c_df.to_csv('Coal SI table.csv')"
   ]
  },
  {
   "cell_type": "markdown",
   "metadata": {},
   "source": [
    "### Emission plots"
   ]
  },
  {
   "cell_type": "code",
   "execution_count": 22,
   "metadata": {
    "ExecuteTime": {
     "end_time": "2017-11-20T11:10:10.336548-05:00",
     "start_time": "2017-11-20T11:10:10.320119Z"
    },
    "collapsed": true
   },
   "outputs": [],
   "source": [
    "sns.set_style('whitegrid')"
   ]
  },
  {
   "cell_type": "markdown",
   "metadata": {},
   "source": [
    "#### SCPC"
   ]
  },
  {
   "cell_type": "code",
   "execution_count": 28,
   "metadata": {
    "ExecuteTime": {
     "end_time": "2017-11-20T11:12:56.621571-05:00",
     "start_time": "2017-11-20T11:12:54.762432Z"
    }
   },
   "outputs": [
    {
     "data": {
      "image/png": "[encoded data removed]",
      "text/plain": [
       "<matplotlib.figure.Figure at 0x11fcdadd0>"
      ]
     },
     "metadata": {},
     "output_type": "display_data"
    }
   ],
   "source": [
    "g = sns.FacetGrid(emissions_df[(emissions_df['Fuel']=='Coal')], hue='CCS',\n",
    "                  col='Start year', hue_order=['0%', '16%', '90%', '16%-90%'],\n",
    "                  col_wrap=2)\n",
    "g.map(plt.plot, 'Time', 'CO2')\n",
    "g.set_ylabels('kg CO$_2$/MWh')\n",
    "g.set_xlabels('Year')\n",
    "g.add_legend()\n",
    "file_path = os.path.join('../Figures', 'SCPC CO2 emissions.pdf')\n",
    "# plt.savefig(file_path)"
   ]
  },
  {
   "cell_type": "code",
   "execution_count": 18,
   "metadata": {},
   "outputs": [
    {
     "data": {
      "text/plain": [
       "<seaborn.axisgrid.FacetGrid at 0x112fc8850>"
      ]
     },
     "execution_count": 18,
     "metadata": {},
     "output_type": "execute_result"
    },
    {
     "data": {
      "text/plain": [
       "<seaborn.axisgrid.FacetGrid at 0x112fc8850>"
      ]
     },
     "execution_count": 18,
     "metadata": {},
     "output_type": "execute_result"
    },
    {
     "data": {
      "text/plain": [
       "<seaborn.axisgrid.FacetGrid at 0x112fc8850>"
      ]
     },
     "execution_count": 18,
     "metadata": {},
     "output_type": "execute_result"
    },
    {
     "data": {
      "text/plain": [
       "<seaborn.axisgrid.FacetGrid at 0x112fc8850>"
      ]
     },
     "execution_count": 18,
     "metadata": {},
     "output_type": "execute_result"
    },
    {
     "data": {
      "image/png": "[encoded data removed]",
      "text/plain": [
       "<matplotlib.figure.Figure at 0x1151d6890>"
      ]
     },
     "metadata": {},
     "output_type": "display_data"
    }
   ],
   "source": [
    "all_emissions = pd.concat([start_emissions, delay_emissions])\n",
    "g = sns.FacetGrid(all_emissions[(all_emissions['Fuel']=='Coal')], hue='CCS',\n",
    "                  col='Start year', hue_order=['0%', '16%', '90%', '16%-90%'])\n",
    "g.map(plt.plot, 'Time', 'CO2')\n",
    "g.set_ylabels('kg CO$_2$/MWh')\n",
    "g.set_xlabels('Year')\n",
    "g.add_legend()\n",
    "file_path = os.path.join('../Figures', 'SCPC CO2 emissions.pdf')\n",
    "plt.savefig(file_path)"
   ]
  },
  {
   "cell_type": "code",
   "execution_count": 29,
   "metadata": {
    "ExecuteTime": {
     "end_time": "2017-11-20T11:14:26.794907-05:00",
     "start_time": "2017-11-20T11:14:25.263003Z"
    }
   },
   "outputs": [
    {
     "data": {
      "image/png": "[encoded data removed]",
      "text/plain": [
       "<matplotlib.figure.Figure at 0x11caa8a10>"
      ]
     },
     "metadata": {},
     "output_type": "display_data"
    }
   ],
   "source": [
    "g = sns.FacetGrid(emissions_df[(emissions_df['Fuel']=='Coal')], hue='CCS',\n",
    "                  col='Start year', hue_order=['0%', '16%', '90%', '16%-90%'],\n",
    "                  col_wrap=2)\n",
    "g.map(plt.plot, 'Time', 'CH4')\n",
    "g.add_legend()\n",
    "g.set_ylabels('kg Ch$_4$/MWh')\n",
    "g.set_xlabels('Year')\n",
    "file_path = os.path.join('../Figures', 'SCPC CH4 emissions.pdf')\n",
    "# plt.savefig(file_path)"
   ]
  },
  {
   "cell_type": "code",
   "execution_count": 19,
   "metadata": {},
   "outputs": [
    {
     "data": {
      "text/plain": [
       "<seaborn.axisgrid.FacetGrid at 0x10f8f0350>"
      ]
     },
     "execution_count": 19,
     "metadata": {},
     "output_type": "execute_result"
    },
    {
     "data": {
      "text/plain": [
       "<seaborn.axisgrid.FacetGrid at 0x10f8f0350>"
      ]
     },
     "execution_count": 19,
     "metadata": {},
     "output_type": "execute_result"
    },
    {
     "data": {
      "text/plain": [
       "<seaborn.axisgrid.FacetGrid at 0x10f8f0350>"
      ]
     },
     "execution_count": 19,
     "metadata": {},
     "output_type": "execute_result"
    },
    {
     "data": {
      "text/plain": [
       "<seaborn.axisgrid.FacetGrid at 0x10f8f0350>"
      ]
     },
     "execution_count": 19,
     "metadata": {},
     "output_type": "execute_result"
    },
    {
     "data": {
      "image/png": "[encoded data removed]",
      "text/plain": [
       "<matplotlib.figure.Figure at 0x11b08a390>"
      ]
     },
     "metadata": {},
     "output_type": "display_data"
    }
   ],
   "source": [
    "all_emissions = pd.concat([start_emissions, delay_emissions])\n",
    "g = sns.FacetGrid(all_emissions[(all_emissions['Fuel']=='Coal')], hue='CCS',\n",
    "                  col='Start year', hue_order=['0%', '16%', '90%', '16%-90%'])\n",
    "g.map(plt.plot, 'Time', 'CH4')\n",
    "g.add_legend()\n",
    "g.set_ylabels('kg Ch$_4$/MWh')\n",
    "g.set_xlabels('Year')\n",
    "file_path = os.path.join('../Figures', 'SCPC CH4 emissions.pdf')\n",
    "# plt.savefig(file_path)"
   ]
  },
  {
   "cell_type": "markdown",
   "metadata": {},
   "source": [
    "#### NGCC"
   ]
  },
  {
   "cell_type": "code",
   "execution_count": 21,
   "metadata": {
    "collapsed": true
   },
   "outputs": [],
   "source": [
    "leak_values =['NGCC ' + str(leak) + '%' for leak in range(1,11)]"
   ]
  },
  {
   "cell_type": "code",
   "execution_count": 22,
   "metadata": {},
   "outputs": [
    {
     "data": {
      "text/plain": [
       "<seaborn.axisgrid.FacetGrid at 0x11c59c190>"
      ]
     },
     "execution_count": 22,
     "metadata": {},
     "output_type": "execute_result"
    },
    {
     "data": {
      "text/plain": [
       "<seaborn.axisgrid.FacetGrid at 0x11c59c190>"
      ]
     },
     "execution_count": 22,
     "metadata": {},
     "output_type": "execute_result"
    },
    {
     "data": {
      "text/plain": [
       "<seaborn.axisgrid.FacetGrid at 0x11c59c190>"
      ]
     },
     "execution_count": 22,
     "metadata": {},
     "output_type": "execute_result"
    },
    {
     "data": {
      "text/plain": [
       "<seaborn.axisgrid.FacetGrid at 0x11c59c190>"
      ]
     },
     "execution_count": 22,
     "metadata": {},
     "output_type": "execute_result"
    },
    {
     "data": {
      "image/png": "[encoded data removed]",
      "text/plain": [
       "<matplotlib.figure.Figure at 0x11af9ed10>"
      ]
     },
     "metadata": {},
     "output_type": "display_data"
    }
   ],
   "source": [
    "g = sns.FacetGrid(start_emissions[(start_emissions['Fuel']=='NG')], \n",
    "                  row='CCS', hue='Leak', col='Methane', \n",
    "                  palette=sns.cubehelix_palette(10, 0.2, hue=1),\n",
    "                  hue_order=leak_values)\n",
    "g.map(plt.plot, 'Time', 'CO2')\n",
    "g.set_ylabels('kg CO$_2$/MWh')\n",
    "g.set_xlabels('Year')\n",
    "g.add_legend()\n",
    "file_path = os.path.join('../Figures', 'NGCC start CO2 emissions.pdf')\n",
    "plt.savefig(file_path)"
   ]
  },
  {
   "cell_type": "code",
   "execution_count": 23,
   "metadata": {
    "scrolled": false
   },
   "outputs": [
    {
     "data": {
      "text/plain": [
       "<seaborn.axisgrid.FacetGrid at 0x1196e85d0>"
      ]
     },
     "execution_count": 23,
     "metadata": {},
     "output_type": "execute_result"
    },
    {
     "data": {
      "text/plain": [
       "<seaborn.axisgrid.FacetGrid at 0x1196e85d0>"
      ]
     },
     "execution_count": 23,
     "metadata": {},
     "output_type": "execute_result"
    },
    {
     "data": {
      "text/plain": [
       "<seaborn.axisgrid.FacetGrid at 0x1196e85d0>"
      ]
     },
     "execution_count": 23,
     "metadata": {},
     "output_type": "execute_result"
    },
    {
     "data": {
      "text/plain": [
       "<seaborn.axisgrid.FacetGrid at 0x1196e85d0>"
      ]
     },
     "execution_count": 23,
     "metadata": {},
     "output_type": "execute_result"
    },
    {
     "data": {
      "image/png": "[encoded data removed]",
      "text/plain": [
       "<matplotlib.figure.Figure at 0x11b27aa10>"
      ]
     },
     "metadata": {},
     "output_type": "display_data"
    }
   ],
   "source": [
    "g = sns.FacetGrid(delay_emissions[(delay_emissions['Fuel']=='NG')], row='CCS', \n",
    "                  col='Methane', hue='Leak', palette=sns.cubehelix_palette(10, 0.2, hue=1),\n",
    "                  hue_order=leak_values)\n",
    "g.map(plt.plot, 'Time', 'CO2')\n",
    "g.set_ylabels('kg CO$_2$/MWh')\n",
    "g.set_xlabels('Year')\n",
    "g.add_legend()\n",
    "file_path = os.path.join('../Figures', 'NGCC delay CO2 emissions.pdf')\n",
    "plt.savefig(file_path)"
   ]
  },
  {
   "cell_type": "code",
   "execution_count": 24,
   "metadata": {},
   "outputs": [
    {
     "data": {
      "text/plain": [
       "<seaborn.axisgrid.FacetGrid at 0x11517e390>"
      ]
     },
     "execution_count": 24,
     "metadata": {},
     "output_type": "execute_result"
    },
    {
     "data": {
      "text/plain": [
       "<seaborn.axisgrid.FacetGrid at 0x11517e390>"
      ]
     },
     "execution_count": 24,
     "metadata": {},
     "output_type": "execute_result"
    },
    {
     "data": {
      "text/plain": [
       "<seaborn.axisgrid.FacetGrid at 0x11517e390>"
      ]
     },
     "execution_count": 24,
     "metadata": {},
     "output_type": "execute_result"
    },
    {
     "data": {
      "text/plain": [
       "<seaborn.axisgrid.FacetGrid at 0x11517e390>"
      ]
     },
     "execution_count": 24,
     "metadata": {},
     "output_type": "execute_result"
    },
    {
     "data": {
      "image/png": "[encoded data removed]",
      "text/plain": [
       "<matplotlib.figure.Figure at 0x10fc37e10>"
      ]
     },
     "metadata": {},
     "output_type": "display_data"
    }
   ],
   "source": [
    "g = sns.FacetGrid(start_emissions[(start_emissions['Fuel']=='NG')], row='CCS', \n",
    "                  hue='Leak', col='Methane', palette=sns.cubehelix_palette(10, 0.2, hue=1),\n",
    "                  hue_order=leak_values)\n",
    "g.map(plt.plot, 'Time', 'CH4')\n",
    "g.set_ylabels('kg CH$_4$/MWh')\n",
    "g.set_xlabels('Year')\n",
    "g.add_legend()\n",
    "file_path = os.path.join('../Figures', 'NGCC start CH4 emissions.pdf')\n",
    "plt.savefig(file_path)"
   ]
  },
  {
   "cell_type": "code",
   "execution_count": 25,
   "metadata": {},
   "outputs": [
    {
     "data": {
      "text/plain": [
       "<seaborn.axisgrid.FacetGrid at 0x11ba60e90>"
      ]
     },
     "execution_count": 25,
     "metadata": {},
     "output_type": "execute_result"
    },
    {
     "data": {
      "text/plain": [
       "<seaborn.axisgrid.FacetGrid at 0x11ba60e90>"
      ]
     },
     "execution_count": 25,
     "metadata": {},
     "output_type": "execute_result"
    },
    {
     "data": {
      "text/plain": [
       "<seaborn.axisgrid.FacetGrid at 0x11ba60e90>"
      ]
     },
     "execution_count": 25,
     "metadata": {},
     "output_type": "execute_result"
    },
    {
     "data": {
      "text/plain": [
       "<seaborn.axisgrid.FacetGrid at 0x11ba60e90>"
      ]
     },
     "execution_count": 25,
     "metadata": {},
     "output_type": "execute_result"
    },
    {
     "data": {
      "image/png": "[encoded data removed]",
      "text/plain": [
       "<matplotlib.figure.Figure at 0x113e93b50>"
      ]
     },
     "metadata": {},
     "output_type": "display_data"
    }
   ],
   "source": [
    "g = sns.FacetGrid(delay_emissions[(delay_emissions['Fuel']=='NG')], row='CCS', \n",
    "                  hue='Leak', col='Methane', palette=sns.cubehelix_palette(10, 0.2, hue=1),\n",
    "                  hue_order=leak_values)\n",
    "g.map(plt.plot, 'Time', 'CH4')\n",
    "g.set_ylabels('kg CH$_4$/MWh')\n",
    "g.set_xlabels('Year')\n",
    "g.add_legend()\n",
    "file_path = os.path.join('../Figures', 'NGCC delay CH4 emissions.pdf')\n",
    "plt.savefig(file_path)"
   ]
  },
  {
   "cell_type": "markdown",
   "metadata": {},
   "source": [
    "## Export data"
   ]
  },
  {
   "cell_type": "code",
   "execution_count": 31,
   "metadata": {
    "ExecuteTime": {
     "end_time": "2017-11-20T11:21:48.870448-05:00",
     "start_time": "2017-11-20T11:21:48.854999Z"
    }
   },
   "outputs": [
    {
     "data": {
      "text/plain": [
       "CO2            object\n",
       "CH4            object\n",
       "Leak           object\n",
       "CCS            object\n",
       "Fuel           object\n",
       "Methane        object\n",
       "Start year     object\n",
       "Time          float64\n",
       "dtype: object"
      ]
     },
     "execution_count": 31,
     "metadata": {},
     "output_type": "execute_result"
    }
   ],
   "source": [
    "emissions_df.dtypes"
   ]
  },
  {
   "cell_type": "code",
   "execution_count": 36,
   "metadata": {
    "ExecuteTime": {
     "end_time": "2017-11-20T13:13:09.639139-05:00",
     "start_time": "2017-11-20T13:12:29.446856Z"
    },
    "collapsed": true
   },
   "outputs": [],
   "source": [
    "path = os.path.join('..', 'Data', 'all emissions.gz')\n",
    "emissions_df.to_csv(path, index=False, compression='gzip')"
   ]
  },
  {
   "cell_type": "code",
   "execution_count": 21,
   "metadata": {
    "collapsed": true
   },
   "outputs": [],
   "source": [
    "export_dict = {'start_emissions' : start_emissions,\n",
    "               'start_list' : start_list,\n",
    "               'delay_emissions' : delay_emissions,\n",
    "               'delay_list' : delay_list}"
   ]
  },
  {
   "cell_type": "code",
   "execution_count": 22,
   "metadata": {
    "collapsed": true
   },
   "outputs": [],
   "source": [
    "# pickle with gzip, from http://stackoverflow.com/questions/18474791/decreasing-the-size-of-cpickle-objects\n",
    "def save_zipped_pickle(obj, filename, protocol=-1):\n",
    "    with gzip.open(filename, 'wb') as f:\n",
    "        pickle.dump(obj, f, protocol)"
   ]
  },
  {
   "cell_type": "code",
   "execution_count": 24,
   "metadata": {},
   "outputs": [],
   "source": [
    "export_path = os.path.join('../Data', 'emissions 1-10 percent.pgz')\n",
    "save_zipped_pickle(export_dict, export_path)"
   ]
  },
  {
   "cell_type": "markdown",
   "metadata": {},
   "source": [
    "## References"
   ]
  },
  {
   "cell_type": "markdown",
   "metadata": {},
   "source": [
    "1. NETL. Life Cycle Analysis of Natural Gas Extraction and Power Generation. (National Energy Technology Laboratory, 2014).\n",
    "2. NETL. Life Cycle Analysis of Natural Gas Extraction and Power Generation. (National Energy Technology Laboratory, 2016).\n",
    "3. NETL. Cost and Performance Baseline for Fossil Energy Plants Volume 1a: Bituminous Coal (PC) and Natural Gas to Electricity Revision 3. (National Energy Technology Laboratory, 2015).\n",
    "4. NETL. Power Plant Flexible Model Technical Documentation and User’s Manual. (National Energy Technology Laboratory, 2013)."
   ]
  }
 ],
 "metadata": {
  "_draft": {
   "nbviewer_url": "https://gist.github.com/45e01b277d3265f91a490415c8e94401"
  },
  "anaconda-cloud": {},
  "gist": {
   "data": {
    "description": "SI Define Emissions",
    "public": false
   },
   "id": "45e01b277d3265f91a490415c8e94401"
  },
  "kernelspec": {
   "display_name": "Python 2",
   "language": "python",
   "name": "python2"
  },
  "language_info": {
   "codemirror_mode": {
    "name": "ipython",
    "version": 2
   },
   "file_extension": ".py",
   "mimetype": "text/x-python",
   "name": "python",
   "nbconvert_exporter": "python",
   "pygments_lexer": "ipython2",
   "version": "2.7.13"
  },
  "varInspector": {
   "cols": {
    "lenName": 16,
    "lenType": 16,
    "lenVar": 40
   },
   "kernels_config": {
    "python": {
     "delete_cmd_postfix": "",
     "delete_cmd_prefix": "del ",
     "library": "var_list.py",
     "varRefreshCmd": "print(var_dic_list())"
    },
    "r": {
     "delete_cmd_postfix": ") ",
     "delete_cmd_prefix": "rm(",
     "library": "var_list.r",
     "varRefreshCmd": "cat(var_dic_list()) "
    }
   },
   "types_to_exclude": [
    "module",
    "function",
    "builtin_function_or_method",
    "instance",
    "_Feature"
   ],
   "window_display": false
  },
  "widgets": {
   "state": {},
   "version": "1.1.2"
  }
 },
 "nbformat": 4,
 "nbformat_minor": 1
}
